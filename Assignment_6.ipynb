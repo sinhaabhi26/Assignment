{
  "nbformat": 4,
  "nbformat_minor": 0,
  "metadata": {
    "colab": {
      "name": "Untitled5.ipynb",
      "provenance": []
    },
    "kernelspec": {
      "name": "python3",
      "display_name": "Python 3"
    },
    "language_info": {
      "name": "python"
    }
  },
  "cells": [
    {
      "cell_type": "code",
      "metadata": {
        "id": "9nStWHIsyRTf"
      },
      "source": [
        "def Fibbonacci(n):\n",
        "  if n<=1:\n",
        "    return n\n",
        "  else:\n",
        "    return(Fibbonacci(n-1)+Fibbonacci(n-2))\n",
        "\n",
        "p=int(input('Enter the range of Fibbonacci series to print: '))\n",
        "print('The Fibbonacci series for range {} is :'.format(p))\n",
        "for i in range(p):\n",
        "  print(Fibbonacci(i))"
      ],
      "execution_count": null,
      "outputs": []
    },
    {
      "cell_type": "code",
      "metadata": {
        "id": "5jA_O3ak0aaG"
      },
      "source": [
        "def Factorial(num):\n",
        "  if num<=1:\n",
        "    return num\n",
        "  else:\n",
        "    return num*Factorial(num-1)\n",
        "\n",
        "i=int(input('Please enter the number to find factorial value: '))\n",
        "if i <=0:\n",
        "  print('Please enter a positive number')\n",
        "else:\n",
        "  print('The factorial value of {} will be : {}'.format(i,Factorial(i)))\n"
      ],
      "execution_count": null,
      "outputs": []
    },
    {
      "cell_type": "code",
      "metadata": {
        "id": "aTB4D4Rm5jl0"
      },
      "source": [
        "w=int(input('Please enter the Weight in kg: '))\n",
        "hf=int(input('Please enter the Height(ft): '))\n",
        "hi=int(input('Please enter the Height(inches): '))\n",
        "hm=(hf*0.3048)+(hi*0.0254)\n",
        "bmi=round((w/(hm)**2),2)\n",
        "print('The BMI for the given person will be : {}'.format(bmi))"
      ],
      "execution_count": null,
      "outputs": []
    },
    {
      "cell_type": "code",
      "metadata": {
        "id": "75MIwO9r2Vaq"
      },
      "source": [
        "import math\n",
        "b=int(input('Please enter the number for which log value to find: '))\n",
        "x=math.log(b)\n",
        "print('The natural log of {}  is :{}'.format(b,x))"
      ],
      "execution_count": null,
      "outputs": []
    },
    {
      "cell_type": "code",
      "metadata": {
        "id": "1JbrdIgN44qb"
      },
      "source": [
        "n=int(input('Please enter the value of n: '))\n",
        "sum=((n*(n+1))//2)**2\n",
        "print('The sum of cube of first {} natural number is:{}'.format(n,sum))"
      ],
      "execution_count": null,
      "outputs": []
    }
  ]
}