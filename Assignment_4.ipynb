{
  "nbformat": 4,
  "nbformat_minor": 0,
  "metadata": {
    "colab": {
      "name": "Untitled3.ipynb",
      "provenance": []
    },
    "kernelspec": {
      "name": "python3",
      "display_name": "Python 3"
    },
    "language_info": {
      "name": "python"
    }
  },
  "cells": [
    {
      "cell_type": "code",
      "metadata": {
        "colab": {
          "base_uri": "https://localhost:8080/"
        },
        "id": "gY0pDbWGIVdU",
        "outputId": "343fea9e-3e9a-40ea-b479-7aa0e9767b80"
      },
      "source": [
        "n=int(input('Enter a number to find factorial: '))\n",
        "for i in range(1,n+1):\n",
        "  if n%i==0:\n",
        "    print(i)"
      ],
      "execution_count": null,
      "outputs": [
        {
          "output_type": "stream",
          "text": [
            "Enter a number to find factorial: 15\n",
            "1\n",
            "3\n",
            "5\n",
            "15\n"
          ],
          "name": "stdout"
        }
      ]
    },
    {
      "cell_type": "code",
      "metadata": {
        "colab": {
          "base_uri": "https://localhost:8080/"
        },
        "id": "Xy5eOHRLS7hn",
        "outputId": "126ef0a1-3c97-4493-c1f1-91df321577d6"
      },
      "source": [
        "p=int(input('Enter a number to print the multiplication table: '))\n",
        "for i in range(1,11):\n",
        "  print(p,'x',i,'=',p*i)\n"
      ],
      "execution_count": null,
      "outputs": [
        {
          "output_type": "stream",
          "text": [
            "Enter a number to print the multiplication table: 23\n",
            "23 x 1 = 23\n",
            "23 x 2 = 46\n",
            "23 x 3 = 69\n",
            "23 x 4 = 92\n",
            "23 x 5 = 115\n",
            "23 x 6 = 138\n",
            "23 x 7 = 161\n",
            "23 x 8 = 184\n",
            "23 x 9 = 207\n",
            "23 x 10 = 230\n"
          ],
          "name": "stdout"
        }
      ]
    },
    {
      "cell_type": "code",
      "metadata": {
        "colab": {
          "base_uri": "https://localhost:8080/"
        },
        "id": "SYWjwqxhUGkP",
        "outputId": "d03397c7-1ef3-4c24-dbfa-dae0dff451b3"
      },
      "source": [
        "k=int(input('Enter the range to print fibbonacci series: '))\n",
        "i=0\n",
        "j=1\n",
        "f=0\n",
        "print('The fibbonacci series will be : ')\n",
        "while f<k:\n",
        "  print(i)\n",
        "  temp=i+j\n",
        "  i=j\n",
        "  j=temp\n",
        "  f+=1\n",
        "\n"
      ],
      "execution_count": null,
      "outputs": [
        {
          "output_type": "stream",
          "text": [
            "Enter the range to print fibbonacci series: 7\n",
            "The fibbonacci series will be : \n",
            "0\n",
            "1\n",
            "1\n",
            "2\n",
            "3\n",
            "5\n",
            "8\n"
          ],
          "name": "stdout"
        }
      ]
    },
    {
      "cell_type": "code",
      "metadata": {
        "colab": {
          "base_uri": "https://localhost:8080/"
        },
        "id": "UZawguHjgJ0i",
        "outputId": "8bbce889-4327-450c-d258-dc3a828204aa"
      },
      "source": [
        "arm=int(input('Enter the number to check whether armstrong number or not: '))\n",
        "sum=0\n",
        "temp=arm\n",
        "while temp>0:\n",
        "  q=temp%10\n",
        "  sum=sum+(q*q*q)\n",
        "  temp=temp//10\n",
        "if sum==arm:\n",
        "  print('{} is an Armstrong Number'.format(arm))\n",
        "else:\n",
        "  print('{} is not an Armstrong Number'.format(arm))\n",
        "\n"
      ],
      "execution_count": null,
      "outputs": [
        {
          "output_type": "stream",
          "text": [
            "Enter the number to check whether armstrong number or not: 153\n",
            "153 is an Armstrong Numer\n"
          ],
          "name": "stdout"
        }
      ]
    },
    {
      "cell_type": "code",
      "metadata": {
        "id": "vOmPVHoNruyp",
        "colab": {
          "base_uri": "https://localhost:8080/"
        },
        "outputId": "6fb805f4-fb2b-4f98-e0c8-bac3fff40301"
      },
      "source": [
        "strt=int(input('Enter the start of the range: '))\n",
        "end=int(input('Enter the end of the range: '))\n",
        "for i in range(strt,end+1):\n",
        "  sum=0\n",
        "  power=len(str(i))\n",
        "  l=i\n",
        "  while l>0:\n",
        "    y=l%10\n",
        "    sum=sum+(y**power)\n",
        "    l=l//10\n",
        "  if i==sum:\n",
        "    print(i)\n",
        "\n",
        "\n"
      ],
      "execution_count": 7,
      "outputs": [
        {
          "output_type": "stream",
          "text": [
            "Enter the start of the range: 100\n",
            "Enter the end of the range: 10000\n",
            "153\n",
            "370\n",
            "371\n",
            "407\n",
            "1634\n",
            "8208\n",
            "9474\n"
          ],
          "name": "stdout"
        }
      ]
    },
    {
      "cell_type": "code",
      "metadata": {
        "colab": {
          "base_uri": "https://localhost:8080/"
        },
        "id": "nWmu9dpfq7xw",
        "outputId": "090142ce-b552-4e25-8f0d-17a9b7596511"
      },
      "source": [
        "m=int(input('Enter the count of numbers to find the sum: '))\n",
        "sum=0\n",
        "for i in range(1,m+1):\n",
        "  sum=sum+i\n",
        "\n",
        "print(sum)"
      ],
      "execution_count": 9,
      "outputs": [
        {
          "output_type": "stream",
          "text": [
            "Enter the count of numbers to find the sum: 20\n",
            "210\n"
          ],
          "name": "stdout"
        }
      ]
    }
  ]
}