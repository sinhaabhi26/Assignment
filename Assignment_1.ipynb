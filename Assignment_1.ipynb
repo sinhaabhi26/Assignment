{
  "nbformat": 4,
  "nbformat_minor": 0,
  "metadata": {
    "colab": {
      "name": "Untitled0.ipynb",
      "provenance": []
    },
    "kernelspec": {
      "name": "python3",
      "display_name": "Python 3"
    },
    "language_info": {
      "name": "python"
    }
  },
  "cells": [
    {
      "cell_type": "code",
      "metadata": {
        "colab": {
          "base_uri": "https://localhost:8080/"
        },
        "id": "qhG3ZVlygE2m",
        "outputId": "b74015b1-f285-40d7-e628-b78b237ffad4"
      },
      "source": [
        "x= int(input('Enter the first number '))\n",
        "y=int(input('Enter the second  number '))\n",
        "z=int(input('Enter the third number '))\n",
        "(x+y-z)/3"
      ],
      "execution_count": 11,
      "outputs": [
        {
          "output_type": "stream",
          "text": [
            "Enter the first number 567\n",
            "Enter the second  number 654\n",
            "Enter the third number 325\n"
          ],
          "name": "stdout"
        },
        {
          "output_type": "execute_result",
          "data": {
            "text/plain": [
              "298.6666666666667"
            ]
          },
          "metadata": {
            "tags": []
          },
          "execution_count": 11
        }
      ]
    },
    {
      "cell_type": "code",
      "metadata": {
        "colab": {
          "base_uri": "https://localhost:8080/"
        },
        "id": "pcKEGae6isHy",
        "outputId": "06f3383e-87de-469b-dc5a-2cd1848c6e40"
      },
      "source": [
        "p=int(input('Enter the height of the triangle: '))\n",
        "q=int(input('Enter the base of the triangle: '))\n",
        "area=1/2*(p*q)\n",
        "print('The are of given triangle with height {} cm and base {} cm is {} sq.cm'.format(p,q,area))"
      ],
      "execution_count": 14,
      "outputs": [
        {
          "output_type": "stream",
          "text": [
            "Enter the height of the triangle: 56\n",
            "Enter the base of the triangle: 28\n",
            "The are of given triangle with height 56 cm and base 28 cm is 784.0 sq.cm\n"
          ],
          "name": "stdout"
        }
      ]
    },
    {
      "cell_type": "code",
      "metadata": {
        "colab": {
          "base_uri": "https://localhost:8080/"
        },
        "id": "NmaA9y42lXgG",
        "outputId": "b9484552-9631-4f1a-acf3-f1b01c7b0b9b"
      },
      "source": [
        "num1=int(input('Enter the first number: '))\n",
        "num2=int(input('Enter the second number: '))\n",
        "num=0\n",
        "num=num1\n",
        "num1=num2\n",
        "num2=num\n",
        "print('The num1 after swapping is {} and the num2 after swapping is {}'.format(num1,num24))"
      ],
      "execution_count": 16,
      "outputs": [
        {
          "output_type": "stream",
          "text": [
            "Enter the first number: 57\n",
            "Enter the second number: 43\n",
            "The num1 after swapping is 43 and the num2 after swapping is 57\n"
          ],
          "name": "stdout"
        }
      ]
    },
    {
      "cell_type": "code",
      "metadata": {
        "colab": {
          "base_uri": "https://localhost:8080/"
        },
        "id": "Am-BQglNnO63",
        "outputId": "b0792aa9-74d5-4d30-df1d-c09c810d68e4"
      },
      "source": [
        "import random\n",
        "random.randrange(0,100)"
      ],
      "execution_count": 20,
      "outputs": [
        {
          "output_type": "execute_result",
          "data": {
            "text/plain": [
              "77"
            ]
          },
          "metadata": {
            "tags": []
          },
          "execution_count": 20
        }
      ]
    }
  ]
}