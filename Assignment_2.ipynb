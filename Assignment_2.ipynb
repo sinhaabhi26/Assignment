{
  "nbformat": 4,
  "nbformat_minor": 0,
  "metadata": {
    "colab": {
      "name": "Untitled1.ipynb",
      "provenance": []
    },
    "kernelspec": {
      "name": "python3",
      "display_name": "Python 3"
    },
    "language_info": {
      "name": "python"
    }
  },
  "cells": [
    {
      "cell_type": "code",
      "metadata": {
        "id": "CactkCJLf846"
      },
      "source": [
        "k=int(input('Enter the distance of school in km: '))\n",
        "p=k*0.6214\n",
        "print('The distance of school in miles will be ',p,' miles')"
      ],
      "execution_count": null,
      "outputs": []
    },
    {
      "cell_type": "code",
      "metadata": {
        "colab": {
          "base_uri": "https://localhost:8080/"
        },
        "id": "4YfgDz8rfYcy",
        "outputId": "00550036-1afb-4f9d-f38b-44b21a10d410"
      },
      "source": [
        "c=int(input('Enter your body temperature in celsius: '))\n",
        "f=int((c*(9/5))+32)\n",
        "print('Your body temperature in Farenheit will be',f,'F')"
      ],
      "execution_count": 2,
      "outputs": [
        {
          "output_type": "stream",
          "text": [
            "Enter your body temperature in celsius: 75\n",
            "Your body temperature in Farenheit will be 167 F\n"
          ],
          "name": "stdout"
        }
      ]
    },
    {
      "cell_type": "code",
      "metadata": {
        "id": "bbmsPTvFfbDj"
      },
      "source": [
        "import calendar\n",
        "m=int(input('Enter a month of your choice: '))\n",
        "y=int(input('Enter a year of your choice: '))\n",
        "print('The calendar for your choice month and year will be ', calendar.month(y,m))"
      ],
      "execution_count": null,
      "outputs": []
    },
    {
      "cell_type": "code",
      "metadata": {
        "id": "MHnQ3xLSfife"
      },
      "source": [
        "v1=int(input('Enter the value of a: '))\n",
        "v2=int(input('Enter the value of b: '))\n",
        "v3=int(input('Enter the value of c: '))\n",
        "d=(v2**2)-(4*v1*v3)\n",
        "sol1=(-v2+d**(1/2))/(2*v1)\n",
        "sol2=(-v2-d**(1/2))/(2*v1)\n",
        "print('The solution for quadratic equation are {} and {}'.format(sol1,sol2))"
      ],
      "execution_count": null,
      "outputs": []
    },
    {
      "cell_type": "code",
      "metadata": {
        "id": "byg1_7Rifm2w"
      },
      "source": [
        "x=int(input('Enter the value of first number: '))\n",
        "y=int(input('Enter the value of second number: '))\n",
        "y=x+y\n",
        "x=y-x\n",
        "y=y-x\n",
        "print('The value of x after swapping is {} and the value of y after swapping is {}'.format(x,y))"
      ],
      "execution_count": null,
      "outputs": []
    }
  ]
}