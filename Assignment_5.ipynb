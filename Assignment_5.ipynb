{
  "nbformat": 4,
  "nbformat_minor": 0,
  "metadata": {
    "colab": {
      "name": "Untitled4.ipynb",
      "provenance": []
    },
    "kernelspec": {
      "name": "python3",
      "display_name": "Python 3"
    },
    "language_info": {
      "name": "python"
    }
  },
  "cells": [
    {
      "cell_type": "code",
      "metadata": {
        "colab": {
          "base_uri": "https://localhost:8080/"
        },
        "id": "nJF1IfbhIoS7",
        "outputId": "ab41f8d8-4a50-4e36-be7f-052f8b00fb2f"
      },
      "source": [
        "n1=int(input('Enter the first number: '))\n",
        "n2=int(input('Enter the second number: '))\n",
        "a=[]\n",
        "d=min(n1,n2)\n",
        "for i in range(1,d+1):\n",
        "  if n1%i==0 and n2%i==0 :\n",
        "    a.append(i)\n",
        "\n",
        "p=max(a)\n",
        "lcm=(n1*n2)//p\n",
        "print('The lcm of two numbers {} and {} is :{}'.format(n1,n2,lcm))"
      ],
      "execution_count": 18,
      "outputs": [
        {
          "output_type": "stream",
          "text": [
            "Enter the first number: 23\n",
            "Enter the second number: 46\n",
            "The lcm of two numbers 23 and 46 is :46\n"
          ],
          "name": "stdout"
        }
      ]
    },
    {
      "cell_type": "code",
      "metadata": {
        "colab": {
          "base_uri": "https://localhost:8080/"
        },
        "id": "3XPI_B2GcMxv",
        "outputId": "23540bc1-12dd-4a0f-97ad-0c7d55cad9d6"
      },
      "source": [
        "k=int(input('Enter the first number: '))\n",
        "l=int(input('Enter the second number: '))\n",
        "c=[]\n",
        "d=min(k,l)\n",
        "for i in range(1,d+1):\n",
        "  if k%i==0 and l%i==0 :\n",
        "    c.append(i)\n",
        "\n",
        "hcf=max(c)\n",
        "print('The HCF of two numbers {} and {} is :{}'.format(k,l,hcf))\n",
        "\n"
      ],
      "execution_count": 6,
      "outputs": [
        {
          "output_type": "stream",
          "text": [
            "Enter the first number: 19\n",
            "Enter the second number: 7\n",
            "The HCF of two numbers 19 and 7 is :1\n"
          ],
          "name": "stdout"
        }
      ]
    },
    {
      "cell_type": "code",
      "metadata": {
        "colab": {
          "base_uri": "https://localhost:8080/"
        },
        "id": "6zuOgmT_ljGk",
        "outputId": "00ce4981-9f3f-4891-cb9b-687acc61067b"
      },
      "source": [
        "num=int(input('Please enter a number: '))\n",
        "#To find the Binary Value:\n",
        "a=[]\n",
        "while num>0:\n",
        "  q=num%2\n",
        "  a.append(q)\n",
        "  num=num//2\n",
        "a.reverse()\n",
        "for i in a:\n",
        "  print(i,end='')"
      ],
      "execution_count": 21,
      "outputs": [
        {
          "output_type": "stream",
          "text": [
            "Please enter a number: 15\n",
            "1111"
          ],
          "name": "stdout"
        }
      ]
    },
    {
      "cell_type": "code",
      "metadata": {
        "colab": {
          "base_uri": "https://localhost:8080/"
        },
        "id": "on1euU12uimG",
        "outputId": "2a9ca50a-8997-4823-f8ea-134b5d7afda5"
      },
      "source": [
        "##To find the Octal Value:\n",
        "p=int(input('Please enter a number: '))\n",
        "b=[]\n",
        "if p<=7:\n",
        "  print('{} is the octal value for {}'.format(p,p))\n",
        "else:\n",
        "  while p>0:\n",
        "    q=p%8\n",
        "    b.append(q)\n",
        "    p=p//8\n",
        "  b.reverse()\n",
        "  for i in b:\n",
        "    k=print(i,end='')\n",
        "\n"
      ],
      "execution_count": 30,
      "outputs": [
        {
          "output_type": "stream",
          "text": [
            "Please enter a number: 26\n",
            "32"
          ],
          "name": "stdout"
        }
      ]
    },
    {
      "cell_type": "code",
      "metadata": {
        "colab": {
          "base_uri": "https://localhost:8080/"
        },
        "id": "4OpXqoXWzZ0j",
        "outputId": "3fa0de45-9dff-468f-fcdf-8277d2b316a3"
      },
      "source": [
        "##To find the hexadecimal value\n",
        "num=int(input('Please enter a number: '))\n",
        "print('The hexadecimal value of {} is {}'.format(num,hex(num)))"
      ],
      "execution_count": 3,
      "outputs": [
        {
          "output_type": "stream",
          "text": [
            "Please enter a number: 15\n",
            "The hexadecimal value of 15 is 0xf\n"
          ],
          "name": "stdout"
        }
      ]
    },
    {
      "cell_type": "code",
      "metadata": {
        "colab": {
          "base_uri": "https://localhost:8080/"
        },
        "id": "F2Om2SewkAAa",
        "outputId": "656836d5-e469-45f7-e421-f7ca73b69209"
      },
      "source": [
        "ch=input('Enter a character to find the ASCII value: ')\n",
        "print('The ASCII value of {} is {}'.format(ch,ord(ch)))"
      ],
      "execution_count": 5,
      "outputs": [
        {
          "output_type": "stream",
          "text": [
            "Enter a character to find the ASCII value: P\n",
            "The ASCII value of P is 80\n"
          ],
          "name": "stdout"
        }
      ]
    },
    {
      "cell_type": "code",
      "metadata": {
        "colab": {
          "base_uri": "https://localhost:8080/"
        },
        "id": "ZW6ywf6dkXcL",
        "outputId": "93fa17fe-c4cd-4f1d-ec4b-085e18ea90fd"
      },
      "source": [
        "##Simple Calculator with 4 basic mathematical operations\n",
        "#Addition\n",
        "def Add(n1,n2):\n",
        "  p=n1+n2\n",
        "  print('The Sum of {} and {} is {}'.format(n1,n2,p))\n",
        "\n",
        "#Subtraction\n",
        "def Sub(n1,n2):\n",
        "  q=abs(n1-n2)\n",
        "  print('The Difference of {} and {} is {}'.format(n1,n2,q))\n",
        "\n",
        "#Multiplication\n",
        "def Mul(n1,n2):\n",
        "  r=n1*n2\n",
        "  print('The Product of {} and {} is {}'.format(n1,n2,r))\n",
        "\n",
        "#Division\n",
        "def Div(n1,n2):\n",
        "  s=round((n1/n2),2)\n",
        "  print('The division of {} and {} is {}'.format(n1,n2,s))\n",
        "\n",
        "x=int(input('Enter the value of first number: '))\n",
        "y=int(input('Enter the value of second number: '))\n",
        "Add(x,y)\n",
        "Sub(x,y)\n",
        "Mul(x,y)\n",
        "Div(x,y)\n"
      ],
      "execution_count": 11,
      "outputs": [
        {
          "output_type": "stream",
          "text": [
            "Enter the value of first number: 674\n",
            "Enter the value of second number: 987\n",
            "The Sum of 674 and 987 is 1661\n",
            "The Difference of 674 and 987 is 313\n",
            "The Product of 674 and 987 is 665238\n",
            "The division of 674 and 987 is 0.68\n"
          ],
          "name": "stdout"
        }
      ]
    },
    {
      "cell_type": "code",
      "metadata": {
        "id": "HaHVzWaGqEKW"
      },
      "source": [
        ""
      ],
      "execution_count": null,
      "outputs": []
    }
  ]
}